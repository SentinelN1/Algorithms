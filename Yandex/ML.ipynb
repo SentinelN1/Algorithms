{
 "cells": [
  {
   "cell_type": "markdown",
   "metadata": {},
   "source": [
    "Классификатор Антиробота должен отличать роботов от людей. Руслан и Людмила написали классификаторы для потока, про который известно, что роботов там ровно половина. Классификатор Руслана опознаёт 80% роботов из всех роботов, но находит (ошибочно) 40% роботов среди всех людей. Классификатор Людмилы опознаёт 60% роботов из всех роботов, но считает роботами 20% людей.\n",
    "Если предположить, что они написали один и тот же классификатор, определяющий «роботность» посещения в пределах от 0 до 1, но выбрали различный порог срабатывания, какая у этого классификатора может быть максимальная f-мера?"
   ]
  },
  {
   "cell_type": "code",
   "execution_count": 6,
   "metadata": {},
   "outputs": [],
   "source": [
    "import numpy as np\n",
    "import matplotlib.pyplot as plt"
   ]
  },
  {
   "cell_type": "code",
   "execution_count": 7,
   "metadata": {},
   "outputs": [],
   "source": [
    "robot_percentage = 0.5"
   ]
  },
  {
   "cell_type": "code",
   "execution_count": 170,
   "metadata": {},
   "outputs": [
    {
     "data": {
      "text/plain": [
       "(0.4, 0.09999999999999998, 0.2, 0.3)"
      ]
     },
     "execution_count": 170,
     "metadata": {},
     "output_type": "execute_result"
    }
   ],
   "source": [
    "# Ruslan\n",
    "tp = robot_percentage * 0.8\n",
    "fn = robot_percentage * (1 - 0.8)\n",
    "fp = (1 - robot_percentage) * 0.4\n",
    "tn = (1 - robot_percentage) * (1 - 0.4)\n",
    "tp, fn, fp, tn"
   ]
  },
  {
   "cell_type": "code",
   "execution_count": 171,
   "metadata": {},
   "outputs": [
    {
     "data": {
      "text/plain": [
       "(0.6666666666666666, 0.8)"
      ]
     },
     "execution_count": 171,
     "metadata": {},
     "output_type": "execute_result"
    }
   ],
   "source": [
    "precision = tp / (tp + fp)\n",
    "recall = tp / (tp + fn)\n",
    "precision, recall"
   ]
  },
  {
   "cell_type": "code",
   "execution_count": 173,
   "metadata": {},
   "outputs": [
    {
     "data": {
      "text/plain": [
       "0.7272727272727273"
      ]
     },
     "execution_count": 173,
     "metadata": {},
     "output_type": "execute_result"
    }
   ],
   "source": [
    "f_score = 2 / (1 / precision + 1 / recall)\n",
    "f_score"
   ]
  },
  {
   "cell_type": "code",
   "execution_count": 157,
   "metadata": {},
   "outputs": [],
   "source": [
    "n = 100"
   ]
  },
  {
   "cell_type": "code",
   "execution_count": 158,
   "metadata": {},
   "outputs": [
    {
     "data": {
      "text/plain": [
       "array([0.93274479, 0.50603692, 0.43095939, 0.6942442 , 0.33345535,\n",
       "       0.2937246 , 0.51779281, 0.46335854, 0.72664654, 0.2505891 ,\n",
       "       0.95694542, 0.39763406, 0.70498798, 0.81108383, 0.36639028,\n",
       "       0.29983642, 0.09630872, 0.8487085 , 0.20247304, 0.7780492 ,\n",
       "       0.34719737, 0.96818488, 0.22144116, 0.98438626, 0.8526477 ,\n",
       "       0.82150511, 0.52922236, 0.5476364 , 0.23178309, 0.15116628,\n",
       "       0.76696513, 0.98866806, 0.12829189, 0.20689054, 0.66209413,\n",
       "       0.81532049, 0.09864615, 0.20157655, 0.83190352, 0.17423286,\n",
       "       0.80688028, 0.11904568, 0.32954317, 0.77404227, 0.26878137,\n",
       "       0.93049397, 0.49598054, 0.76727238, 0.20757118, 0.40631663,\n",
       "       0.63653611, 0.07857372, 0.74487225, 0.72208841, 0.66805371,\n",
       "       0.64651517, 0.39820453, 0.50349311, 0.37070723, 0.67045483,\n",
       "       0.22391195, 0.68095025, 0.65561275, 0.14829515, 0.36791908,\n",
       "       0.81339679, 0.39314236, 0.48898971, 0.05106715, 0.66899305,\n",
       "       0.97924091, 0.37873277, 0.32526748, 0.39998897, 0.09202186,\n",
       "       0.17224622, 0.14800237, 0.91794302, 0.17547447, 0.94763388,\n",
       "       0.81742556, 0.12660814, 0.99718349, 0.29657894, 0.86726954,\n",
       "       0.50635107, 0.47592341, 0.05329306, 0.39866074, 0.62291382,\n",
       "       0.64373407, 0.43037037, 0.15722503, 0.75336131, 0.64323306,\n",
       "       0.84025313, 0.79402875, 0.25724137, 0.16320415, 0.45277227])"
      ]
     },
     "execution_count": 158,
     "metadata": {},
     "output_type": "execute_result"
    }
   ],
   "source": [
    "predict = np.random.uniform(size=n)\n",
    "predict"
   ]
  },
  {
   "cell_type": "code",
   "execution_count": 159,
   "metadata": {},
   "outputs": [
    {
     "data": {
      "text/plain": [
       "array([-1, -1, -1, -1, -1, -1, -1, -1, -1, -1, -1, -1, -1, -1, -1, -1, -1,\n",
       "       -1, -1, -1, -1, -1, -1, -1, -1, -1, -1, -1, -1, -1, -1, -1, -1, -1,\n",
       "       -1, -1, -1, -1, -1, -1, -1, -1, -1, -1, -1, -1, -1, -1, -1, -1,  1,\n",
       "        1,  1,  1,  1,  1,  1,  1,  1,  1,  1,  1,  1,  1,  1,  1,  1,  1,\n",
       "        1,  1,  1,  1,  1,  1,  1,  1,  1,  1,  1,  1,  1,  1,  1,  1,  1,\n",
       "        1,  1,  1,  1,  1,  1,  1,  1,  1,  1,  1,  1,  1,  1,  1])"
      ]
     },
     "execution_count": 159,
     "metadata": {},
     "output_type": "execute_result"
    }
   ],
   "source": [
    "fact = np.array((n - int(robot_percentage * n)) * [-1] + int(robot_percentage * n) * [1])\n",
    "fact"
   ]
  },
  {
   "cell_type": "code",
   "execution_count": 160,
   "metadata": {},
   "outputs": [],
   "source": [
    "def foo(fact, predict, threshold):\n",
    "    n = np.size(predict)\n",
    "    true_positive = ((fact == 1) & (predict >= threshold)).sum() / n\n",
    "    false_negative = ((fact == 1) & (predict < threshold)).sum() / n\n",
    "    true_negative = ((fact == -1) & (predict < threshold)).sum() / n\n",
    "    false_positive = ((fact == -1) & (predict >= threshold)).sum() / n\n",
    "    \n",
    "    precision = true_positive / (true_positive + false_positive)\n",
    "    recall = true_positive / (true_positive + false_negative)\n",
    "    \n",
    "    f_score = 2.0 / (1.0 / precision + 1.0 / recall)\n",
    "\n",
    "    return {\"true_positive\" : true_positive, \n",
    "            \"false_negative\" : false_negative, \n",
    "            \"true_negative\" : true_negative, \n",
    "            \"false_positive\" : false_positive, \n",
    "            \"precision\" : precision, \n",
    "            \"recall\" : recall, \n",
    "            \"f_score\" : f_score}\n"
   ]
  },
  {
   "cell_type": "code",
   "execution_count": 165,
   "metadata": {},
   "outputs": [
    {
     "name": "stderr",
     "output_type": "stream",
     "text": [
      "C:\\Users\\egora\\AppData\\Local\\Temp\\ipykernel_54020\\1590157849.py:8: RuntimeWarning: invalid value encountered in scalar divide\n",
      "  precision = true_positive / (true_positive + false_positive)\n",
      "C:\\Users\\egora\\AppData\\Local\\Temp\\ipykernel_54020\\1590157849.py:11: RuntimeWarning: divide by zero encountered in scalar divide\n",
      "  f_score = 2.0 / (1.0 / precision + 1.0 / recall)\n"
     ]
    }
   ],
   "source": [
    "thresholds = np.linspace(0, 1, endpoint=True, num=10000)\n",
    "f_scores = np.zeros_like(thresholds)\n",
    "\n",
    "for i, threshold in enumerate(thresholds):\n",
    "    res = foo(fact, predict, threshold)\n",
    "    f_scores[i] = res[\"f_score\"]"
   ]
  },
  {
   "cell_type": "code",
   "execution_count": 166,
   "metadata": {},
   "outputs": [
    {
     "data": {
      "image/png": "[encoded data removed]",
      "text/plain": [
       "<Figure size 640x480 with 1 Axes>"
      ]
     },
     "metadata": {},
     "output_type": "display_data"
    }
   ],
   "source": [
    "plt.plot(thresholds, f_scores)\n",
    "plt.xlabel(\"Threshold\")\n",
    "plt.ylabel(\"F-Score\")\n",
    "plt.grid()\n",
    "plt.show()"
   ]
  },
  {
   "cell_type": "code",
   "execution_count": null,
   "metadata": {},
   "outputs": [],
   "source": []
  }
 ],
 "metadata": {
  "kernelspec": {
   "display_name": "Python 3",
   "language": "python",
   "name": "python3"
  },
  "language_info": {
   "codemirror_mode": {
    "name": "ipython",
    "version": 3
   },
   "file_extension": ".py",
   "mimetype": "text/x-python",
   "name": "python",
   "nbconvert_exporter": "python",
   "pygments_lexer": "ipython3",
   "version": "3.12.4"
  }
 },
 "nbformat": 4,
 "nbformat_minor": 2
}
