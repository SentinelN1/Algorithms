{
 "cells": [
  {
   "cell_type": "code",
   "execution_count": 89,
   "metadata": {},
   "outputs": [],
   "source": [
    "import numpy as np\n",
    "import matplotlib.pyplot as plt"
   ]
  },
  {
   "cell_type": "code",
   "execution_count": 121,
   "metadata": {},
   "outputs": [],
   "source": [
    "# n = np.random.randint(low=0, high=1001)\n",
    "# m = np.random.randint(low=0, high=1001)\n",
    "n = 1 + np.random.randint(low=0, high=20)\n",
    "m = 1 + np.random.randint(low=0, high=20)"
   ]
  },
  {
   "cell_type": "code",
   "execution_count": 122,
   "metadata": {},
   "outputs": [
    {
     "data": {
      "text/plain": [
       "(9, 15)"
      ]
     },
     "execution_count": 122,
     "metadata": {},
     "output_type": "execute_result"
    }
   ],
   "source": [
    "n, m"
   ]
  },
  {
   "cell_type": "code",
   "execution_count": 123,
   "metadata": {},
   "outputs": [],
   "source": [
    "# nums1 = np.sort(np.random.randint(low=1e-6, high=1e6 + 1, size=m))\n",
    "# nums2 = np.sort(np.random.randint(low=1e-6, high=1e6 + 1, size=n))\n",
    "nums1 = np.sort(np.random.randint(low=0, high=20, size=m))\n",
    "nums2 = np.sort(np.random.randint(low=0, high=20, size=n))"
   ]
  },
  {
   "cell_type": "code",
   "execution_count": 124,
   "metadata": {},
   "outputs": [
    {
     "name": "stdout",
     "output_type": "stream",
     "text": [
      "[ 0  2  3  4  5  5  9 10 11 12 14 15 16 16 16]\n"
     ]
    }
   ],
   "source": [
    "print(nums1)"
   ]
  },
  {
   "cell_type": "code",
   "execution_count": 125,
   "metadata": {},
   "outputs": [
    {
     "name": "stdout",
     "output_type": "stream",
     "text": [
      "[ 2  7  7 10 11 15 16 18 18]\n"
     ]
    }
   ],
   "source": [
    "print(nums2)"
   ]
  },
  {
   "cell_type": "code",
   "execution_count": 126,
   "metadata": {},
   "outputs": [],
   "source": [
    "joined = np.sort(np.concatenate([nums1, nums2]))"
   ]
  },
  {
   "cell_type": "code",
   "execution_count": 127,
   "metadata": {},
   "outputs": [
    {
     "name": "stdout",
     "output_type": "stream",
     "text": [
      "[ 0  2  2  3  4  5  5  7  7  9 10 10 11 11 12 14 15 15 16 16 16 16 18 18]\n"
     ]
    }
   ],
   "source": [
    "print(joined)"
   ]
  },
  {
   "cell_type": "code",
   "execution_count": 128,
   "metadata": {},
   "outputs": [
    {
     "data": {
      "text/plain": [
       "10.5"
      ]
     },
     "execution_count": 128,
     "metadata": {},
     "output_type": "execute_result"
    }
   ],
   "source": [
    "np.median(joined)"
   ]
  },
  {
   "cell_type": "code",
   "execution_count": 143,
   "metadata": {},
   "outputs": [],
   "source": [
    "def findMedianSortedArrays(arr1, arr2):\n",
    "    # left1 = 0\n",
    "    # left2 = 0\n",
    "    \n",
    "    # right1 = np.size(arr1)\n",
    "    # right2 = np.size(arr2)\n",
    "\n",
    "    # middle1 = \n",
    "    # middle2 = \n",
    "\n",
    "    size1 = np.size(arr1)\n",
    "    size2 = np.size(arr2)\n",
    "    \n",
    "    i = 0\n",
    "    j = 0\n",
    "\n",
    "    # while i < size1 and j < size2:\n",
    "    #     if (arr1[i] < arr2[j]):\n",
    "    #         if (2 * (i + j) == size1 + size2 - 1):\n",
    "    #             print(arr1[i])\n",
    "    #         i += 1\n",
    "    #     else:\n",
    "    #         if (2 * (i + j) == size1 + size2 - 1):\n",
    "    #             print(arr2[j])\n",
    "    #         j += 1\n",
    "\n",
    "    # # 2 * (i + j) == size1 + size2 or \n",
    "    # # 2 * (i + j) == size1 + size2 + 1\n",
    "\n",
    "    # while i < size1:\n",
    "    #     if (2 * (i + j) == size1 + size2 - 1):\n",
    "    #         print(arr1[i])\n",
    "    #     i += 1\n",
    "\n",
    "    # while j < size2:\n",
    "    #     if (2 * (i + j) == size1 + size2 - 1):\n",
    "    #         print(arr2[j])\n",
    "    #     j += 1\n",
    "\n",
    "    print((0, arr1[0]))\n",
    "    if size1 % 2 == 0:\n",
    "        print(((size1 - 1) // 2, arr1[(size1 - 1) // 2]))\n",
    "        print(((size1 + 1) // 2, arr1[(size1 + 1) // 2]))\n",
    "    else:\n",
    "        print(((size1 - 1) // 2, arr1[(size1 - 1) // 2]))\n",
    "        print(((size1 - 1) // 2, arr1[(size1 - 1) // 2]))\n",
    "    print((size1 - 1, arr1[size1 - 1]))\n",
    "\n",
    "    print(\"--------\")\n",
    "\n",
    "    print((0, arr2[0]))\n",
    "    if size2 % 2 == 0:\n",
    "        print(((size2 - 1) // 2, arr2[(size2 - 1) // 2]))\n",
    "        print(((size2 + 1) // 2, arr2[(size2 + 1) // 2]))\n",
    "    else:\n",
    "        print(((size2 - 1) // 2, arr2[(size2 - 1) // 2]))\n",
    "        print(((size2 - 1) // 2, arr2[(size2 - 1) // 2]))\n",
    "    print((size2 - 1, arr2[size2 - 1]))"
   ]
  },
  {
   "cell_type": "code",
   "execution_count": 144,
   "metadata": {},
   "outputs": [
    {
     "name": "stdout",
     "output_type": "stream",
     "text": [
      "(0, 0)\n",
      "(7, 10)\n",
      "(7, 10)\n",
      "(14, 16)\n",
      "--------\n",
      "(0, 2)\n",
      "(4, 11)\n",
      "(4, 11)\n",
      "(8, 18)\n"
     ]
    }
   ],
   "source": [
    "findMedianSortedArrays(nums1, nums2)"
   ]
  },
  {
   "cell_type": "code",
   "execution_count": 140,
   "metadata": {},
   "outputs": [
    {
     "data": {
      "text/plain": [
       "(10.0, 11.0)"
      ]
     },
     "execution_count": 140,
     "metadata": {},
     "output_type": "execute_result"
    }
   ],
   "source": [
    "np.median(nums1), np.median(nums2)"
   ]
  },
  {
   "cell_type": "code",
   "execution_count": 107,
   "metadata": {},
   "outputs": [
    {
     "data": {
      "image/png": "[encoded data removed]",
      "text/plain": [
       "<Figure size 640x480 with 1 Axes>"
      ]
     },
     "metadata": {},
     "output_type": "display_data"
    }
   ],
   "source": [
    "plt.title(\"Histogram\")\n",
    "plt.hist(nums1, bins=int(np.max(nums1) - np.min(nums1)), alpha=1)\n",
    "plt.hist(nums2, bins=int(np.max(nums2) - np.min(nums2)), alpha=0.5)\n",
    "plt.xticks(np.arange(np.min(joined) - 1, np.max(joined) + 2))\n",
    "# plt.yticks(np.arange(0, 6))\n",
    "plt.grid()\n",
    "plt.show()"
   ]
  },
  {
   "cell_type": "code",
   "execution_count": 108,
   "metadata": {},
   "outputs": [
    {
     "data": {
      "image/png": "[encoded data removed]",
      "text/plain": [
       "<Figure size 640x480 with 1 Axes>"
      ]
     },
     "metadata": {},
     "output_type": "display_data"
    }
   ],
   "source": [
    "plt.title(\"Histogram\")\n",
    "plt.hist(nums1, bins=int(np.max(nums1) - np.min(nums1)), alpha=1)\n",
    "plt.xticks(np.arange(np.min(nums1) - 1, np.max(nums2) + 2))\n",
    "plt.yticks(np.arange(0, 6))\n",
    "plt.grid()\n",
    "plt.show()"
   ]
  },
  {
   "cell_type": "code",
   "execution_count": 110,
   "metadata": {},
   "outputs": [
    {
     "data": {
      "image/png": "[encoded data removed]",
      "text/plain": [
       "<Figure size 640x480 with 1 Axes>"
      ]
     },
     "metadata": {},
     "output_type": "display_data"
    }
   ],
   "source": [
    "plt.title(\"Histogram\")\n",
    "plt.hist(nums2, bins=int(np.max(nums2) - np.min(nums2)), alpha=1)\n",
    "plt.xticks(np.arange(np.min(nums2) - 1, np.max(nums2) + 2))\n",
    "plt.yticks(np.arange(0, 3))\n",
    "plt.grid()\n",
    "plt.show()"
   ]
  },
  {
   "cell_type": "code",
   "execution_count": null,
   "metadata": {},
   "outputs": [],
   "source": []
  }
 ],
 "metadata": {
  "kernelspec": {
   "display_name": ".venv",
   "language": "python",
   "name": "python3"
  },
  "language_info": {
   "codemirror_mode": {
    "name": "ipython",
    "version": 3
   },
   "file_extension": ".py",
   "mimetype": "text/x-python",
   "name": "python",
   "nbconvert_exporter": "python",
   "pygments_lexer": "ipython3",
   "version": "3.12.3"
  }
 },
 "nbformat": 4,
 "nbformat_minor": 2
}
